{
  "cells": [
    {
      "cell_type": "markdown",
      "metadata": {
        "id": "view-in-github",
        "colab_type": "text"
      },
      "source": [
        "<a href=\"https://colab.research.google.com/github/iamtatsuki05/iamtatsuki05/blob/main/NLP_100_1.ipynb\" target=\"_parent\"><img src=\"https://colab.research.google.com/assets/colab-badge.svg\" alt=\"Open In Colab\"/></a>"
      ]
    },
    {
      "cell_type": "markdown",
      "id": "b0862f88-96bc-4827-906d-8449277c028c",
      "metadata": {
        "id": "b0862f88-96bc-4827-906d-8449277c028c"
      },
      "source": [
        "# 言語処理100本ノック_第1章: 準備運動  \n",
        "## https://nlp100.github.io/ja/ch01.html"
      ]
    },
    {
      "cell_type": "markdown",
      "id": "35faa895-ebab-45b9-bb67-c5fae66bb035",
      "metadata": {
        "jp-MarkdownHeadingCollapsed": true,
        "tags": [],
        "id": "35faa895-ebab-45b9-bb67-c5fae66bb035"
      },
      "source": [
        "# "
      ]
    },
    {
      "cell_type": "markdown",
      "id": "c521faee-efc6-4349-ab1f-2d4f298bce4a",
      "metadata": {
        "id": "c521faee-efc6-4349-ab1f-2d4f298bce4a"
      },
      "source": [
        "# 文字列の逆順  \n",
        "## 文字列”stressed”の文字を逆に（末尾から先頭に向かって）並べた文字列を得よ．  "
      ]
    },
    {
      "cell_type": "code",
      "execution_count": null,
      "id": "dc072582-201c-4cae-b65a-e57220ba0387",
      "metadata": {
        "colab": {
          "base_uri": "https://localhost:8080/",
          "height": 35
        },
        "id": "dc072582-201c-4cae-b65a-e57220ba0387",
        "outputId": "c045702e-fdc6-4f27-bca6-87277a1e8bc7"
      },
      "outputs": [
        {
          "output_type": "execute_result",
          "data": {
            "text/plain": [
              "'desserts'"
            ],
            "application/vnd.google.colaboratory.intrinsic+json": {
              "type": "string"
            }
          },
          "metadata": {},
          "execution_count": 1
        }
      ],
      "source": [
        "x='stressed'\n",
        "ans=x[::-1]\n",
        "ans"
      ]
    },
    {
      "cell_type": "markdown",
      "id": "87b3bc42-6017-484d-9ce7-ee8234afd718",
      "metadata": {
        "id": "87b3bc42-6017-484d-9ce7-ee8234afd718"
      },
      "source": [
        "# 「パタトクカシーー」 \n",
        "## 「パタトクカシーー」という文字列の1,3,5,7文字目を取り出して連結した文字列を得よ．"
      ]
    },
    {
      "cell_type": "code",
      "execution_count": null,
      "id": "5945bbcd-2302-4441-b20c-629b90da15c2",
      "metadata": {
        "colab": {
          "base_uri": "https://localhost:8080/",
          "height": 35
        },
        "id": "5945bbcd-2302-4441-b20c-629b90da15c2",
        "outputId": "84b18d54-1bb9-4e44-fd28-cccc6e33f971"
      },
      "outputs": [
        {
          "output_type": "execute_result",
          "data": {
            "text/plain": [
              "'パトカー'"
            ],
            "application/vnd.google.colaboratory.intrinsic+json": {
              "type": "string"
            }
          },
          "metadata": {},
          "execution_count": 2
        }
      ],
      "source": [
        "x='パタトクカシーー'\n",
        "ans=x[0::2]\n",
        "ans"
      ]
    },
    {
      "cell_type": "markdown",
      "id": "5b3f6844-b891-4261-90ec-78e6ad8e72ff",
      "metadata": {
        "id": "5b3f6844-b891-4261-90ec-78e6ad8e72ff"
      },
      "source": [
        "# 「パトカー」＋「タクシー」＝「パタトクカシーー」\n",
        "## 「パトカー」＋「タクシー」の文字を先頭から交互に連結して文字列「パタトクカシーー」を得よ．"
      ]
    },
    {
      "cell_type": "code",
      "execution_count": null,
      "id": "d2cf3c09-628a-4374-8975-18058298d874",
      "metadata": {
        "colab": {
          "base_uri": "https://localhost:8080/",
          "height": 35
        },
        "id": "d2cf3c09-628a-4374-8975-18058298d874",
        "outputId": "3d603fcf-1d71-4f1b-9953-ca02df1d3566"
      },
      "outputs": [
        {
          "output_type": "execute_result",
          "data": {
            "text/plain": [
              "'パタトクカシーー'"
            ],
            "application/vnd.google.colaboratory.intrinsic+json": {
              "type": "string"
            }
          },
          "metadata": {},
          "execution_count": 3
        }
      ],
      "source": [
        "x='パトカー'\n",
        "y='タクシー'\n",
        "ans=''.join([i+j for i,j in zip(x,y)])\n",
        "ans"
      ]
    },
    {
      "cell_type": "code",
      "execution_count": null,
      "id": "b9f2c2e0-1a6b-4cb7-8a16-f4ed460a85ed",
      "metadata": {
        "id": "b9f2c2e0-1a6b-4cb7-8a16-f4ed460a85ed"
      },
      "outputs": [],
      "source": [
        "#参考　https://murashun.jp/article/programming/python/python-list-join.html"
      ]
    },
    {
      "cell_type": "markdown",
      "id": "9037b01b-d6b4-41cb-b751-59b4a516061f",
      "metadata": {
        "id": "9037b01b-d6b4-41cb-b751-59b4a516061f"
      },
      "source": [
        "# 円周率\n",
        "## “Now I need a drink, alcoholic of course, after the heavy lectures involving quantum mechanics.”という文を単語に分解し，各単語の（アルファベットの）文字数を先頭から出現順に並べたリストを作成せよ．"
      ]
    },
    {
      "cell_type": "code",
      "execution_count": null,
      "id": "0c7a653c-399a-4a95-80bd-b19b3c55f619",
      "metadata": {
        "colab": {
          "base_uri": "https://localhost:8080/"
        },
        "id": "0c7a653c-399a-4a95-80bd-b19b3c55f619",
        "outputId": "6065203c-3535-48a2-e360-a8be27b6f63a"
      },
      "outputs": [
        {
          "output_type": "execute_result",
          "data": {
            "text/plain": [
              "[3, 1, 4, 1, 5, 9, 2, 6, 5, 3, 5, 8, 9, 7, 9]"
            ]
          },
          "metadata": {},
          "execution_count": 5
        }
      ],
      "source": [
        "x='Now I need a drink, alcoholic of course, after the heavy lectures involving quantum mechanics.'\n",
        "word_list=x.replace(',','').replace('.','').split(' ')\n",
        "list=[]\n",
        "\n",
        "for i in word_list:\n",
        "    list.append(len(i))\n",
        "    \n",
        "list"
      ]
    },
    {
      "cell_type": "markdown",
      "id": "57ec8a38-0516-4e59-9eb6-3513a1d8fd8d",
      "metadata": {
        "id": "57ec8a38-0516-4e59-9eb6-3513a1d8fd8d"
      },
      "source": [
        "# 元素記号Permalink\n",
        "## “Hi He Lied Because Boron Could Not Oxidize Fluorine. New Nations Might Also Sign Peace Security Clause. Arthur King Can.”という文を単語に分解し，1, 5, 6, 7, 8, 9, 15, 16, 19番目の単語は先頭の1文字，それ以外の単語は先頭の2文字を取り出し，取り出した文字列から単語の位置（先頭から何番目の単語か）への連想配列（辞書型もしくはマップ型）を作成せよ"
      ]
    },
    {
      "cell_type": "code",
      "execution_count": null,
      "id": "6b4b7ba3-9434-4a11-8c58-c9fdf313ec92",
      "metadata": {
        "colab": {
          "base_uri": "https://localhost:8080/"
        },
        "id": "6b4b7ba3-9434-4a11-8c58-c9fdf313ec92",
        "outputId": "292ba778-7546-45bb-f679-e8ed895ab8e8"
      },
      "outputs": [
        {
          "output_type": "execute_result",
          "data": {
            "text/plain": [
              "{1: 'H',\n",
              " 2: 'He',\n",
              " 3: 'Li',\n",
              " 4: 'Be',\n",
              " 5: 'B',\n",
              " 6: 'C',\n",
              " 7: 'N',\n",
              " 8: 'O',\n",
              " 9: 'F',\n",
              " 10: 'Ne',\n",
              " 11: 'Na',\n",
              " 12: 'Mi',\n",
              " 13: 'Al',\n",
              " 14: 'Si',\n",
              " 15: 'P',\n",
              " 16: 'S',\n",
              " 17: 'Cl',\n",
              " 18: 'Ar',\n",
              " 19: 'K',\n",
              " 20: 'Ca'}"
            ]
          },
          "metadata": {},
          "execution_count": 6
        }
      ],
      "source": [
        "x='Hi He Lied Because Boron Could Not Oxidize Fluorine. New Nations Might Also Sign Peace Security Clause. Arthur King Can.'\n",
        "word_list=x.replace(',','').replace('.','').split(' ')\n",
        "{i+1 : j[0] if i+1 in [1, 5, 6, 7, 8, 9, 15, 16, 19] else j[0:2] for i,j in enumerate(word_list)}"
      ]
    },
    {
      "cell_type": "code",
      "execution_count": null,
      "id": "e0c9a7a0-4230-4cef-b9f9-b943a141c9ea",
      "metadata": {
        "id": "e0c9a7a0-4230-4cef-b9f9-b943a141c9ea"
      },
      "outputs": [],
      "source": [
        "#参考 https://note.nkmk.me/python-enumerate-start/"
      ]
    },
    {
      "cell_type": "markdown",
      "id": "b18097aa-aa09-42fe-bfeb-1201e92c429e",
      "metadata": {
        "id": "b18097aa-aa09-42fe-bfeb-1201e92c429e"
      },
      "source": [
        "# n-gramPermalink\n",
        "## 与えられたシーケンス（文字列やリストなど）からn-gramを作る関数を作成せよ．この関数を用い，”I am an NLPer”という文から単語bi-gram，文字bi-gramを得よ．"
      ]
    },
    {
      "cell_type": "code",
      "execution_count": null,
      "id": "3213ed8e-4e78-41b1-b03a-2ce34fbc228b",
      "metadata": {
        "id": "3213ed8e-4e78-41b1-b03a-2ce34fbc228b"
      },
      "outputs": [],
      "source": [
        "#解釈が曖昧です。"
      ]
    },
    {
      "cell_type": "code",
      "execution_count": null,
      "id": "02074ddf-e497-4d95-ac2e-a62eeba4e2b1",
      "metadata": {
        "colab": {
          "base_uri": "https://localhost:8080/"
        },
        "id": "02074ddf-e497-4d95-ac2e-a62eeba4e2b1",
        "outputId": "9b77a209-ca09-41c3-9a74-2059daead832"
      },
      "outputs": [
        {
          "output_type": "stream",
          "name": "stdout",
          "text": [
            "['I am', ' am ', 'am a', 'm an', ' an ', 'an N', 'n NL', ' NLP', 'NLPe', 'LPer']\n"
          ]
        }
      ],
      "source": [
        "def f(x,n):\n",
        "    return [x[i:i+n]for i in range(len(x)-n+1)]\n",
        "\n",
        "print(f('I am an NLPer',4))"
      ]
    },
    {
      "cell_type": "code",
      "execution_count": null,
      "id": "bcebb96a-2a7c-42c4-9703-52cd85b56fab",
      "metadata": {
        "id": "bcebb96a-2a7c-42c4-9703-52cd85b56fab"
      },
      "outputs": [],
      "source": [
        "#参考 https://qiita.com/kazmaw/items/4df328cba6429ec210fb"
      ]
    },
    {
      "cell_type": "markdown",
      "id": "87675c76-4d92-428e-ba82-2d6d2465debf",
      "metadata": {
        "id": "87675c76-4d92-428e-ba82-2d6d2465debf"
      },
      "source": [
        "# 集合\n",
        "# “paraparaparadise”と”paragraph”に含まれる文字bi-gramの集合を，それぞれ, XとYとして求め，XとYの和集合，積集合，，差集合を求めよ．さらに，’se’というbi-gramがXおよびYに含まれるかどうかを調べよ"
      ]
    },
    {
      "cell_type": "code",
      "execution_count": null,
      "id": "1e9e223c-1305-4dfb-ba03-4c61e7c9e721",
      "metadata": {
        "colab": {
          "base_uri": "https://localhost:8080/"
        },
        "id": "1e9e223c-1305-4dfb-ba03-4c61e7c9e721",
        "outputId": "9f0b1f54-63ac-4853-b80a-6f8ecafdc862"
      },
      "outputs": [
        {
          "output_type": "stream",
          "name": "stdout",
          "text": [
            "和集合: {'arap', 'radi', 'adis', 'raph', 'grap', 'ragr', 'agra', 'apar', 'para', 'arag', 'arad', 'dise', 'rapa'}\n",
            "積集合，: {'para'}\n",
            "差集合，: {'arap', 'radi', 'adis', 'apar', 'arad', 'dise', 'rapa'}\n",
            "\n",
            "’se’というbi-gramがXおよびYに含まれるか\n",
            "X: False\n",
            "Y: False\n"
          ]
        }
      ],
      "source": [
        "x=set(f('paraparaparadise',4))\n",
        "y=set(f('paragraph',4))\n",
        "\n",
        "print('和集合:',x|y)\n",
        "print('積集合，:',x&y)\n",
        "print('差集合，:',x-y)\n",
        "print()\n",
        "print('’se’というbi-gramがXおよびYに含まれるか')\n",
        "print('X:','se' in x)\n",
        "print('Y:','se' in y)"
      ]
    },
    {
      "cell_type": "code",
      "execution_count": null,
      "id": "f1c2e816-21fd-4def-9a84-32163454e410",
      "metadata": {
        "id": "f1c2e816-21fd-4def-9a84-32163454e410"
      },
      "outputs": [],
      "source": [
        "#参考 https://note.nkmk.me/python-set/"
      ]
    },
    {
      "cell_type": "markdown",
      "id": "3a984c7f-fc94-4c22-822f-d1fc49550192",
      "metadata": {
        "id": "3a984c7f-fc94-4c22-822f-d1fc49550192"
      },
      "source": [
        "# テンプレートによる文生成\n",
        "## 引数x, y, zを受け取り「x時のyはz」という文字列を返す関数を実装せよ．さらに，x=12, y=”気温”, z=22.4として，実行結果を確認せよ"
      ]
    },
    {
      "cell_type": "code",
      "execution_count": null,
      "id": "3766c31b-8345-481d-a3f9-1e1b64e44f43",
      "metadata": {
        "colab": {
          "base_uri": "https://localhost:8080/"
        },
        "id": "3766c31b-8345-481d-a3f9-1e1b64e44f43",
        "outputId": "f5baa357-7e3b-4bb1-a9f9-0103257b713c"
      },
      "outputs": [
        {
          "output_type": "stream",
          "name": "stdout",
          "text": [
            "12時の気温は22.4\n"
          ]
        }
      ],
      "source": [
        "def tmp(x,y,z):\n",
        "    print(f'{x}時の{y}は{z}')\n",
        "    return \n",
        "tmp(12,'気温',22.4)"
      ]
    },
    {
      "cell_type": "markdown",
      "id": "ab6b42a1-6537-4877-a979-7f920b837c3c",
      "metadata": {
        "id": "ab6b42a1-6537-4877-a979-7f920b837c3c"
      },
      "source": [
        "# 暗号文\n",
        "## 与えられた文字列の各文字を，以下の仕様で変換する関数cipherを実装せよ．\n",
        "###  英小文字ならば(219 - 文字コード)の文字に置換\n",
        "###  その他の文字はそのまま出力\n",
        "### この関数を用い，英語のメッセージを暗号化・復号化せよ．"
      ]
    },
    {
      "cell_type": "code",
      "execution_count": null,
      "id": "f586899a-ac3a-4fef-8562-97a3c90f4c1a",
      "metadata": {
        "colab": {
          "base_uri": "https://localhost:8080/",
          "height": 326
        },
        "id": "f586899a-ac3a-4fef-8562-97a3c90f4c1a",
        "outputId": "19072ffa-b85b-44bb-df7c-87e89ddb6ac3"
      },
      "outputs": [
        {
          "output_type": "error",
          "ename": "TypeError",
          "evalue": "ignored",
          "traceback": [
            "\u001b[0;31m---------------------------------------------------------------------------\u001b[0m",
            "\u001b[0;31mTypeError\u001b[0m                                 Traceback (most recent call last)",
            "\u001b[0;32m<ipython-input-14-d2906992e1eb>\u001b[0m in \u001b[0;36m<module>\u001b[0;34m()\u001b[0m\n\u001b[1;32m     11\u001b[0m     \u001b[0;32mreturn\u001b[0m \u001b[0;34m''\u001b[0m\u001b[0;34m.\u001b[0m\u001b[0mjoin\u001b[0m\u001b[0;34m(\u001b[0m\u001b[0mList\u001b[0m\u001b[0;34m)\u001b[0m\u001b[0;34m\u001b[0m\u001b[0;34m\u001b[0m\u001b[0m\n\u001b[1;32m     12\u001b[0m \u001b[0;34m\u001b[0m\u001b[0m\n\u001b[0;32m---> 13\u001b[0;31m \u001b[0mprint\u001b[0m\u001b[0;34m(\u001b[0m\u001b[0mchipher\u001b[0m\u001b[0;34m(\u001b[0m\u001b[0;34m'Apple123'\u001b[0m\u001b[0;34m)\u001b[0m\u001b[0;34m)\u001b[0m\u001b[0;34m\u001b[0m\u001b[0;34m\u001b[0m\u001b[0m\n\u001b[0m",
            "\u001b[0;32m<ipython-input-14-d2906992e1eb>\u001b[0m in \u001b[0;36mchipher\u001b[0;34m(x)\u001b[0m\n\u001b[1;32m      3\u001b[0m \u001b[0;34m\u001b[0m\u001b[0m\n\u001b[1;32m      4\u001b[0m \u001b[0;32mdef\u001b[0m \u001b[0mchipher\u001b[0m\u001b[0;34m(\u001b[0m\u001b[0mx\u001b[0m\u001b[0;34m)\u001b[0m\u001b[0;34m:\u001b[0m\u001b[0;34m\u001b[0m\u001b[0;34m\u001b[0m\u001b[0m\n\u001b[0;32m----> 5\u001b[0;31m     \u001b[0mList\u001b[0m\u001b[0;34m=\u001b[0m\u001b[0mlist\u001b[0m\u001b[0;34m(\u001b[0m\u001b[0;34m)\u001b[0m\u001b[0;34m\u001b[0m\u001b[0;34m\u001b[0m\u001b[0m\n\u001b[0m\u001b[1;32m      6\u001b[0m     \u001b[0;32mfor\u001b[0m \u001b[0mi\u001b[0m \u001b[0;32min\u001b[0m \u001b[0mlist\u001b[0m\u001b[0;34m(\u001b[0m\u001b[0mx\u001b[0m\u001b[0;34m)\u001b[0m\u001b[0;34m:\u001b[0m\u001b[0;34m\u001b[0m\u001b[0;34m\u001b[0m\u001b[0m\n\u001b[1;32m      7\u001b[0m         \u001b[0;32mif\u001b[0m \u001b[0mre\u001b[0m\u001b[0;34m.\u001b[0m\u001b[0msearch\u001b[0m\u001b[0;34m(\u001b[0m\u001b[0;34mr'[a-z]'\u001b[0m\u001b[0;34m,\u001b[0m \u001b[0mi\u001b[0m\u001b[0;34m)\u001b[0m\u001b[0;34m:\u001b[0m\u001b[0;34m\u001b[0m\u001b[0;34m\u001b[0m\u001b[0m\n",
            "\u001b[0;31mTypeError\u001b[0m: 'list' object is not callable"
          ]
        }
      ],
      "source": [
        "from typing import Text\n",
        "import re\n",
        "\n",
        "def chipher(x):\n",
        "  List=[chr(219 - ord(i)) if i.islower() else i for i in x]\n",
        "  return ''.join(List)\n",
        "\n",
        "txt='Apple123'\n",
        "#暗号\n",
        "txt=cipher(txt)\n",
        "print(Text)\n",
        "#複号\n",
        "print(chipher(txt))"
      ]
    },
    {
      "cell_type": "code",
      "execution_count": null,
      "id": "2472479d-2992-455d-a9be-7b6f8e1c4b2a",
      "metadata": {
        "id": "2472479d-2992-455d-a9be-7b6f8e1c4b2a"
      },
      "outputs": [],
      "source": [
        "#参考 https://hibiki-press.tech/python/isupper-islower/3728\n",
        "#https://024minion.hatenablog.jp/entry/2017/05/11/230517"
      ]
    },
    {
      "cell_type": "code",
      "execution_count": null,
      "id": "4a49b0b0-d4cb-4baa-bf9a-6bec5c7d01b3",
      "metadata": {
        "id": "4a49b0b0-d4cb-4baa-bf9a-6bec5c7d01b3"
      },
      "outputs": [],
      "source": [
        ""
      ]
    },
    {
      "cell_type": "markdown",
      "id": "eab61315-4214-4470-a889-841d42dd4017",
      "metadata": {
        "tags": [],
        "id": "eab61315-4214-4470-a889-841d42dd4017"
      },
      "source": [
        "# TypoglycemiaPermalink\n",
        "## スペースで区切られた単語列に対して，各単語の先頭と末尾の文字は残し，それ以外の文字の順序をランダムに並び替えるプログラムを作成せよ．ただし，長さが４以下の単語は並び替えないこととする．適当な英語の文（例えば”I couldn’t believe that I could actually understand what I was reading : the phenomenal power of the human mind .”）を与え，その実行結果を確認せよ．"
      ]
    },
    {
      "cell_type": "code",
      "execution_count": null,
      "id": "85bf3063-8d8e-4c19-beab-5548644e3e38",
      "metadata": {
        "colab": {
          "base_uri": "https://localhost:8080/",
          "height": 35
        },
        "id": "85bf3063-8d8e-4c19-beab-5548644e3e38",
        "outputId": "cfb5b1d6-37e1-4aa1-9668-a972de8dda99"
      },
      "outputs": [
        {
          "output_type": "execute_result",
          "data": {
            "text/plain": [
              "'I cu o ’ d l nt bv e i e le that I cu o ld at u a c l ly ua n d e t s r nd what I was rn d i e ag : the pa o h n e m e nl pe o wr of the ha m un mind .'"
            ],
            "application/vnd.google.colaboratory.intrinsic+json": {
              "type": "string"
            }
          },
          "metadata": {},
          "execution_count": 18
        }
      ],
      "source": [
        "import random\n",
        "\n",
        "def shuffle(x):\n",
        "  result=[]\n",
        "  for i in x.split():\n",
        "    if len(i)>4:\n",
        "      i=i[:1]+' '.join(random.sample(i[1:-1],len(i)-2))+i[-1:]\n",
        "    result.append(i)\n",
        "  return ' '.join(result)\n",
        "\n",
        "txt='I couldn’t believe that I could actually understand what I was reading : the phenomenal power of the human mind .'\n",
        "shuffle(txt)"
      ]
    },
    {
      "cell_type": "code",
      "execution_count": null,
      "id": "9184084d-4171-41e5-8bbb-79fb5a7a047a",
      "metadata": {
        "id": "9184084d-4171-41e5-8bbb-79fb5a7a047a"
      },
      "outputs": [],
      "source": [
        ""
      ]
    }
  ],
  "metadata": {
    "kernelspec": {
      "display_name": "Python 3 (ipykernel)",
      "language": "python",
      "name": "python3"
    },
    "language_info": {
      "codemirror_mode": {
        "name": "ipython",
        "version": 3
      },
      "file_extension": ".py",
      "mimetype": "text/x-python",
      "name": "python",
      "nbconvert_exporter": "python",
      "pygments_lexer": "ipython3",
      "version": "3.8.12"
    },
    "colab": {
      "name": "NLP_100_1.ipynb",
      "provenance": [],
      "include_colab_link": true
    }
  },
  "nbformat": 4,
  "nbformat_minor": 5
}